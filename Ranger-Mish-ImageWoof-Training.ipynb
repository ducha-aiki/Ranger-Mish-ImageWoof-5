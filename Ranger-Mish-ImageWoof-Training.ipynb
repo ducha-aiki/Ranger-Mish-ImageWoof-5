{
 "cells": [
  {
   "cell_type": "code",
   "execution_count": null,
   "metadata": {},
   "outputs": [],
   "source": [
    "#Below is the training settings used for ImageWoof 5 epoch, 128px.  You can kick off a run in the very next cell.\n",
    "#There are some other sample runs showing how some of the settings were adjusted...if you find better settings please let us know!"
   ]
  },
  {
   "cell_type": "code",
   "execution_count": 5,
   "metadata": {},
   "outputs": [
    {
     "name": "stdout",
     "output_type": "stream",
     "text": [
      "Collecting git+https://github.com/kornia/kornia.git@maxblurpool-ceil\n",
      "  Cloning https://github.com/kornia/kornia.git (to revision maxblurpool-ceil) to /local/temporary/pip-req-build-ctxf2a75\n",
      "  Running command git clone -q https://github.com/kornia/kornia.git /local/temporary/pip-req-build-ctxf2a75\n",
      "  Running command git checkout -b maxblurpool-ceil --track origin/maxblurpool-ceil\n",
      "  Switched to a new branch 'maxblurpool-ceil'\n",
      "  Branch maxblurpool-ceil set up to track remote branch maxblurpool-ceil from origin.\n",
      "Requirement already satisfied: torch>=1.0.0 in /mnt/home.dokt/mishkdmy/.conda/envs/fastai1/lib/python3.7/site-packages (from kornia==0.1.2+e298f2e) (1.3.0)\n",
      "Requirement already satisfied: pillow>=6.2.0 in /mnt/home.dokt/mishkdmy/.conda/envs/fastai1/lib/python3.7/site-packages (from kornia==0.1.2+e298f2e) (6.2.1)\n",
      "Requirement already satisfied: numpy in /mnt/home.dokt/mishkdmy/.conda/envs/fastai1/lib/python3.7/site-packages (from torch>=1.0.0->kornia==0.1.2+e298f2e) (1.17.2)\n",
      "Building wheels for collected packages: kornia\n",
      "  Building wheel for kornia (setup.py) ... \u001b[?25ldone\n",
      "\u001b[?25h  Created wheel for kornia: filename=kornia-0.1.2+e298f2e-py2.py3-none-any.whl size=131249 sha256=10b92ee92caeec139d8da3d698ba3084853c46f8aafe8e632fbb137f5ecf1a0d\n",
      "  Stored in directory: /local/temporary/pip-ephem-wheel-cache-3x6zc3im/wheels/d2/31/e4/de39855e3d4a1e89b940fbbbbd07c59b1b323e2d822cccc59e\n",
      "Successfully built kornia\n",
      "Installing collected packages: kornia\n",
      "Successfully installed kornia-0.1.2+e298f2e\n"
     ]
    }
   ],
   "source": [
    "#To install maxblurpool from kornia\n",
    "!pip install git+https://github.com/kornia/kornia.git@maxblurpool-ceil"
   ]
  },
  {
   "cell_type": "code",
   "execution_count": 1,
   "metadata": {},
   "outputs": [
    {
     "name": "stdout",
     "output_type": "stream",
     "text": [
      "Mish activation loaded...\n",
      "/home.dokt/mishkdmy/.fastai/data/imagewoof\n",
      "698  annealing start\n"
     ]
    },
    {
     "data": {
      "text/html": [
       "<table border=\"1\" class=\"dataframe\">\n",
       "  <thead>\n",
       "    <tr style=\"text-align: left;\">\n",
       "      <th>epoch</th>\n",
       "      <th>train_loss</th>\n",
       "      <th>valid_loss</th>\n",
       "      <th>accuracy</th>\n",
       "      <th>top_k_accuracy</th>\n",
       "      <th>time</th>\n",
       "    </tr>\n",
       "  </thead>\n",
       "  <tbody>\n",
       "    <tr>\n",
       "      <td>0</td>\n",
       "      <td>1.834966</td>\n",
       "      <td>1.772416</td>\n",
       "      <td>0.436000</td>\n",
       "      <td>0.886000</td>\n",
       "      <td>00:56</td>\n",
       "    </tr>\n",
       "    <tr>\n",
       "      <td>1</td>\n",
       "      <td>1.579040</td>\n",
       "      <td>1.702327</td>\n",
       "      <td>0.462000</td>\n",
       "      <td>0.894000</td>\n",
       "      <td>00:52</td>\n",
       "    </tr>\n",
       "    <tr>\n",
       "      <td>2</td>\n",
       "      <td>1.436959</td>\n",
       "      <td>1.373437</td>\n",
       "      <td>0.626000</td>\n",
       "      <td>0.944000</td>\n",
       "      <td>00:52</td>\n",
       "    </tr>\n",
       "    <tr>\n",
       "      <td>3</td>\n",
       "      <td>1.301685</td>\n",
       "      <td>1.305925</td>\n",
       "      <td>0.682000</td>\n",
       "      <td>0.950000</td>\n",
       "      <td>00:52</td>\n",
       "    </tr>\n",
       "    <tr>\n",
       "      <td>4</td>\n",
       "      <td>1.094138</td>\n",
       "      <td>1.086812</td>\n",
       "      <td>0.760000</td>\n",
       "      <td>0.964000</td>\n",
       "      <td>00:53</td>\n",
       "    </tr>\n",
       "  </tbody>\n",
       "</table>"
      ],
      "text/plain": [
       "<IPython.core.display.HTML object>"
      ]
     },
     "metadata": {},
     "output_type": "display_data"
    },
    {
     "name": "stdout",
     "output_type": "stream",
     "text": [
      "/home.dokt/mishkdmy/.fastai/data/imagewoof\n",
      "698  annealing start\n"
     ]
    },
    {
     "data": {
      "text/html": [
       "<table border=\"1\" class=\"dataframe\">\n",
       "  <thead>\n",
       "    <tr style=\"text-align: left;\">\n",
       "      <th>epoch</th>\n",
       "      <th>train_loss</th>\n",
       "      <th>valid_loss</th>\n",
       "      <th>accuracy</th>\n",
       "      <th>top_k_accuracy</th>\n",
       "      <th>time</th>\n",
       "    </tr>\n",
       "  </thead>\n",
       "  <tbody>\n",
       "    <tr>\n",
       "      <td>0</td>\n",
       "      <td>1.821011</td>\n",
       "      <td>1.955183</td>\n",
       "      <td>0.392000</td>\n",
       "      <td>0.866000</td>\n",
       "      <td>00:52</td>\n",
       "    </tr>\n",
       "    <tr>\n",
       "      <td>1</td>\n",
       "      <td>1.610800</td>\n",
       "      <td>2.247697</td>\n",
       "      <td>0.388000</td>\n",
       "      <td>0.892000</td>\n",
       "      <td>00:52</td>\n",
       "    </tr>\n",
       "    <tr>\n",
       "      <td>2</td>\n",
       "      <td>1.439731</td>\n",
       "      <td>1.477039</td>\n",
       "      <td>0.586000</td>\n",
       "      <td>0.940000</td>\n",
       "      <td>00:52</td>\n",
       "    </tr>\n",
       "    <tr>\n",
       "      <td>3</td>\n",
       "      <td>1.307768</td>\n",
       "      <td>1.225828</td>\n",
       "      <td>0.700000</td>\n",
       "      <td>0.950000</td>\n",
       "      <td>00:52</td>\n",
       "    </tr>\n",
       "    <tr>\n",
       "      <td>4</td>\n",
       "      <td>1.108266</td>\n",
       "      <td>1.099412</td>\n",
       "      <td>0.768000</td>\n",
       "      <td>0.962000</td>\n",
       "      <td>00:52</td>\n",
       "    </tr>\n",
       "  </tbody>\n",
       "</table>"
      ],
      "text/plain": [
       "<IPython.core.display.HTML object>"
      ]
     },
     "metadata": {},
     "output_type": "display_data"
    },
    {
     "name": "stdout",
     "output_type": "stream",
     "text": [
      "/home.dokt/mishkdmy/.fastai/data/imagewoof\n",
      "698  annealing start\n"
     ]
    },
    {
     "data": {
      "text/html": [
       "<table border=\"1\" class=\"dataframe\">\n",
       "  <thead>\n",
       "    <tr style=\"text-align: left;\">\n",
       "      <th>epoch</th>\n",
       "      <th>train_loss</th>\n",
       "      <th>valid_loss</th>\n",
       "      <th>accuracy</th>\n",
       "      <th>top_k_accuracy</th>\n",
       "      <th>time</th>\n",
       "    </tr>\n",
       "  </thead>\n",
       "  <tbody>\n",
       "    <tr>\n",
       "      <td>0</td>\n",
       "      <td>1.875687</td>\n",
       "      <td>1.950114</td>\n",
       "      <td>0.358000</td>\n",
       "      <td>0.862000</td>\n",
       "      <td>00:53</td>\n",
       "    </tr>\n",
       "    <tr>\n",
       "      <td>1</td>\n",
       "      <td>1.627403</td>\n",
       "      <td>2.330531</td>\n",
       "      <td>0.360000</td>\n",
       "      <td>0.828000</td>\n",
       "      <td>00:53</td>\n",
       "    </tr>\n",
       "    <tr>\n",
       "      <td>2</td>\n",
       "      <td>1.461140</td>\n",
       "      <td>1.420936</td>\n",
       "      <td>0.614000</td>\n",
       "      <td>0.956000</td>\n",
       "      <td>00:53</td>\n",
       "    </tr>\n",
       "    <tr>\n",
       "      <td>3</td>\n",
       "      <td>1.314851</td>\n",
       "      <td>1.292451</td>\n",
       "      <td>0.676000</td>\n",
       "      <td>0.956000</td>\n",
       "      <td>00:52</td>\n",
       "    </tr>\n",
       "    <tr>\n",
       "      <td>4</td>\n",
       "      <td>1.122625</td>\n",
       "      <td>1.097334</td>\n",
       "      <td>0.762000</td>\n",
       "      <td>0.974000</td>\n",
       "      <td>00:53</td>\n",
       "    </tr>\n",
       "  </tbody>\n",
       "</table>"
      ],
      "text/plain": [
       "<IPython.core.display.HTML object>"
      ]
     },
     "metadata": {},
     "output_type": "display_data"
    },
    {
     "name": "stdout",
     "output_type": "stream",
     "text": [
      "/home.dokt/mishkdmy/.fastai/data/imagewoof\n",
      "698  annealing start\n"
     ]
    },
    {
     "data": {
      "text/html": [
       "<table border=\"1\" class=\"dataframe\">\n",
       "  <thead>\n",
       "    <tr style=\"text-align: left;\">\n",
       "      <th>epoch</th>\n",
       "      <th>train_loss</th>\n",
       "      <th>valid_loss</th>\n",
       "      <th>accuracy</th>\n",
       "      <th>top_k_accuracy</th>\n",
       "      <th>time</th>\n",
       "    </tr>\n",
       "  </thead>\n",
       "  <tbody>\n",
       "    <tr>\n",
       "      <td>0</td>\n",
       "      <td>1.898865</td>\n",
       "      <td>1.788366</td>\n",
       "      <td>0.440000</td>\n",
       "      <td>0.872000</td>\n",
       "      <td>00:53</td>\n",
       "    </tr>\n",
       "    <tr>\n",
       "      <td>1</td>\n",
       "      <td>1.648329</td>\n",
       "      <td>2.067376</td>\n",
       "      <td>0.412000</td>\n",
       "      <td>0.888000</td>\n",
       "      <td>00:52</td>\n",
       "    </tr>\n",
       "    <tr>\n",
       "      <td>2</td>\n",
       "      <td>1.449310</td>\n",
       "      <td>1.398640</td>\n",
       "      <td>0.642000</td>\n",
       "      <td>0.936000</td>\n",
       "      <td>00:52</td>\n",
       "    </tr>\n",
       "    <tr>\n",
       "      <td>3</td>\n",
       "      <td>1.350455</td>\n",
       "      <td>1.345423</td>\n",
       "      <td>0.654000</td>\n",
       "      <td>0.958000</td>\n",
       "      <td>00:53</td>\n",
       "    </tr>\n",
       "    <tr>\n",
       "      <td>4</td>\n",
       "      <td>1.133770</td>\n",
       "      <td>1.109487</td>\n",
       "      <td>0.746000</td>\n",
       "      <td>0.970000</td>\n",
       "      <td>00:53</td>\n",
       "    </tr>\n",
       "  </tbody>\n",
       "</table>"
      ],
      "text/plain": [
       "<IPython.core.display.HTML object>"
      ]
     },
     "metadata": {},
     "output_type": "display_data"
    },
    {
     "name": "stdout",
     "output_type": "stream",
     "text": [
      "/home.dokt/mishkdmy/.fastai/data/imagewoof\n",
      "698  annealing start\n"
     ]
    },
    {
     "data": {
      "text/html": [
       "<table border=\"1\" class=\"dataframe\">\n",
       "  <thead>\n",
       "    <tr style=\"text-align: left;\">\n",
       "      <th>epoch</th>\n",
       "      <th>train_loss</th>\n",
       "      <th>valid_loss</th>\n",
       "      <th>accuracy</th>\n",
       "      <th>top_k_accuracy</th>\n",
       "      <th>time</th>\n",
       "    </tr>\n",
       "  </thead>\n",
       "  <tbody>\n",
       "    <tr>\n",
       "      <td>0</td>\n",
       "      <td>1.871335</td>\n",
       "      <td>1.972729</td>\n",
       "      <td>0.348000</td>\n",
       "      <td>0.844000</td>\n",
       "      <td>00:52</td>\n",
       "    </tr>\n",
       "    <tr>\n",
       "      <td>1</td>\n",
       "      <td>1.606600</td>\n",
       "      <td>1.965430</td>\n",
       "      <td>0.468000</td>\n",
       "      <td>0.894000</td>\n",
       "      <td>00:52</td>\n",
       "    </tr>\n",
       "    <tr>\n",
       "      <td>2</td>\n",
       "      <td>1.469128</td>\n",
       "      <td>1.421092</td>\n",
       "      <td>0.594000</td>\n",
       "      <td>0.936000</td>\n",
       "      <td>00:53</td>\n",
       "    </tr>\n",
       "    <tr>\n",
       "      <td>3</td>\n",
       "      <td>1.318548</td>\n",
       "      <td>1.408379</td>\n",
       "      <td>0.626000</td>\n",
       "      <td>0.940000</td>\n",
       "      <td>00:53</td>\n",
       "    </tr>\n",
       "    <tr>\n",
       "      <td>4</td>\n",
       "      <td>1.124317</td>\n",
       "      <td>1.110820</td>\n",
       "      <td>0.742000</td>\n",
       "      <td>0.970000</td>\n",
       "      <td>00:53</td>\n",
       "    </tr>\n",
       "  </tbody>\n",
       "</table>"
      ],
      "text/plain": [
       "<IPython.core.display.HTML object>"
      ]
     },
     "metadata": {},
     "output_type": "display_data"
    },
    {
     "name": "stdout",
     "output_type": "stream",
     "text": [
      "[0.76  0.768 0.762 0.746 0.742]\n",
      "0.7556\n",
      "0.009911619\n"
     ]
    }
   ],
   "source": [
    "#Run this to reproduce the results of Dmytro modification: mxresnet + MaxPoolBlur2d:\n",
    "%run train.py --run 5 --woof 1 --size 128 --bs 64 --mixup 0 --epoch 5 --lr 4e-3 --gpu 1 --opt ranger --mom .95 --sched_type flat_and_anneal --ann_start 0.72"
   ]
  },
  {
   "cell_type": "code",
   "execution_count": null,
   "metadata": {},
   "outputs": [],
   "source": []
  },
  {
   "cell_type": "code",
   "execution_count": null,
   "metadata": {},
   "outputs": [],
   "source": []
  }
 ],
 "metadata": {
  "kernelspec": {
   "display_name": "Python 3",
   "language": "python",
   "name": "python3"
  },
  "language_info": {
   "codemirror_mode": {
    "name": "ipython",
    "version": 3
   },
   "file_extension": ".py",
   "mimetype": "text/x-python",
   "name": "python",
   "nbconvert_exporter": "python",
   "pygments_lexer": "ipython3",
   "version": "3.7.4"
  }
 },
 "nbformat": 4,
 "nbformat_minor": 2
}
